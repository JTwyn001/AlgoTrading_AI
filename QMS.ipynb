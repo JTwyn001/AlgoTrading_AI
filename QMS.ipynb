{
 "cells": [
  {
   "cell_type": "code",
   "execution_count": 1,
   "metadata": {
    "collapsed": true,
    "pycharm": {
     "name": "#%%\n"
    }
   },
   "outputs": [],
   "source": [
    "import numpy as np #The Numpy numerical computing library\n",
    "import pandas as pd #The Pandas data science library\n",
    "import requests #The requests library for HTTP requests in Python\n",
    "import xlsxwriter #The XlsxWriter library for\n",
    "import math #The Python math module\n",
    "from scipy import stats #The SciPy stats module"
   ]
  },
  {
   "cell_type": "code",
   "execution_count": 2,
   "outputs": [
    {
     "data": {
      "text/plain": "    Ticker\n0        A\n1      AAL\n2      AAP\n3     AAPL\n4     ABBV\n..     ...\n500    YUM\n501    ZBH\n502   ZBRA\n503   ZION\n504    ZTS\n\n[505 rows x 1 columns]",
      "text/html": "<div>\n<style scoped>\n    .dataframe tbody tr th:only-of-type {\n        vertical-align: middle;\n    }\n\n    .dataframe tbody tr th {\n        vertical-align: top;\n    }\n\n    .dataframe thead th {\n        text-align: right;\n    }\n</style>\n<table border=\"1\" class=\"dataframe\">\n  <thead>\n    <tr style=\"text-align: right;\">\n      <th></th>\n      <th>Ticker</th>\n    </tr>\n  </thead>\n  <tbody>\n    <tr>\n      <th>0</th>\n      <td>A</td>\n    </tr>\n    <tr>\n      <th>1</th>\n      <td>AAL</td>\n    </tr>\n    <tr>\n      <th>2</th>\n      <td>AAP</td>\n    </tr>\n    <tr>\n      <th>3</th>\n      <td>AAPL</td>\n    </tr>\n    <tr>\n      <th>4</th>\n      <td>ABBV</td>\n    </tr>\n    <tr>\n      <th>...</th>\n      <td>...</td>\n    </tr>\n    <tr>\n      <th>500</th>\n      <td>YUM</td>\n    </tr>\n    <tr>\n      <th>501</th>\n      <td>ZBH</td>\n    </tr>\n    <tr>\n      <th>502</th>\n      <td>ZBRA</td>\n    </tr>\n    <tr>\n      <th>503</th>\n      <td>ZION</td>\n    </tr>\n    <tr>\n      <th>504</th>\n      <td>ZTS</td>\n    </tr>\n  </tbody>\n</table>\n<p>505 rows × 1 columns</p>\n</div>"
     },
     "execution_count": 2,
     "metadata": {},
     "output_type": "execute_result"
    }
   ],
   "source": [
    "stocks = pd.read_csv('sp_500_stocks.csv')\n",
    "stocks"
   ],
   "metadata": {
    "collapsed": false,
    "pycharm": {
     "name": "#%%\n"
    }
   }
  }
 ],
 "metadata": {
  "kernelspec": {
   "display_name": "Python 3",
   "language": "python",
   "name": "python3"
  },
  "language_info": {
   "codemirror_mode": {
    "name": "ipython",
    "version": 2
   },
   "file_extension": ".py",
   "mimetype": "text/x-python",
   "name": "python",
   "nbconvert_exporter": "python",
   "pygments_lexer": "ipython2",
   "version": "2.7.6"
  }
 },
 "nbformat": 4,
 "nbformat_minor": 0
}